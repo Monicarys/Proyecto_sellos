{
 "cells": [
  {
   "cell_type": "code",
   "execution_count": 28,
   "id": "a934fca5-20b6-48d1-abdd-0b2d1f7b9286",
   "metadata": {},
   "outputs": [],
   "source": [
    "import cv2\n",
    "import numpy as np\n",
    "import matplotlib.pyplot as plt"
   ]
  },
  {
   "cell_type": "code",
   "execution_count": 29,
   "id": "6bd94c23-df69-41e1-984c-956fa36bc61a",
   "metadata": {},
   "outputs": [],
   "source": [
    "# paso1: cargue la imagen y conviértala en una imagen en escala de grises\n",
    "image = cv2.imread(\"1.jpg\")\n",
    "gray = cv2.cvtColor(image, cv2.COLOR_BGR2GRAY)"
   ]
  },
  {
   "cell_type": "code",
   "execution_count": 30,
   "id": "865dfd78-791a-4899-8416-f618f4020378",
   "metadata": {},
   "outputs": [],
   "source": [
    "# paso2: use el operador Sobel para calcular el gradiente en las direcciones x e y, y luego reste el gradiente en la dirección y en la dirección x. A través de esta resta, dejamos un área de imagen con un gradiente horizontal alto y un gradiente vertical bajo.\n",
    "gradX = cv2.Sobel(gray, cv2.CV_32F, dx=1, dy=0, ksize=-1)\n",
    "gradY = cv2.Sobel(gray, cv2.CV_32F, dx=0, dy=1, ksize=-1)"
   ]
  },
  {
   "cell_type": "code",
   "execution_count": 31,
   "id": "8940922d-1574-407e-96bb-8d1c7407d7a6",
   "metadata": {},
   "outputs": [],
   "source": [
    "# subtract the y-gradient from the x-gradient\n",
    "gradient = cv2.subtract(gradX, gradY)\n",
    "gradient = cv2.convertScaleAbs(gradient)"
   ]
  },
  {
   "cell_type": "code",
   "execution_count": 5,
   "id": "ef36bad2-564e-40e3-bb35-b4bca2384a5b",
   "metadata": {},
   "outputs": [
    {
     "data": {
      "text/plain": [
       "-1"
      ]
     },
     "execution_count": 5,
     "metadata": {},
     "output_type": "execute_result"
    }
   ],
   "source": [
    "# show image\n",
    "cv2.imshow(\"first\", gradient)\n",
    "cv2.waitKey()"
   ]
  },
  {
   "cell_type": "code",
   "execution_count": 32,
   "id": "4f6feb49-ee8d-45a9-8bf9-f617ab64d6a0",
   "metadata": {},
   "outputs": [],
   "source": [
    "# paso3: elimine el ruido en la imagen. Primero use un filtro de paso bajo para suavizar la imagen (núcleo de 9 x 9), lo que ayudará a suavizar el ruido de alta frecuencia en la imagen.\n",
    "# El objetivo del filtro de paso bajo es reducir la tasa de cambio de la imagen. Por ejemplo, reemplace cada píxel con el valor promedio de los píxeles alrededor del píxel. Esto puede suavizar y reemplazar aquellas áreas donde la intensidad cambia significativamente.\n",
    "# Luego, binarice la imagen borrosa. Cualquier píxel en la imagen de degradado no mayor de 90 se establece en 0 (negro). De lo contrario, el píxel se establece en 255 (blanco).\n",
    "# blur and threshold the image\n",
    "blurred = cv2.blur(gradient, (9, 9))\n",
    "_, thresh = cv2.threshold(blurred, 90, 255, cv2.THRESH_BINARY)"
   ]
  },
  {
   "cell_type": "code",
   "execution_count": 7,
   "id": "0ecf2c48-ef68-4908-b098-4b6231a694cc",
   "metadata": {},
   "outputs": [
    {
     "data": {
      "text/plain": [
       "-1"
      ]
     },
     "execution_count": 7,
     "metadata": {},
     "output_type": "execute_result"
    }
   ],
   "source": [
    "# SHOW IMAGE\n",
    "cv2.imshow(\"thresh\", thresh)\n",
    "cv2.waitKey()"
   ]
  },
  {
   "cell_type": "code",
   "execution_count": 33,
   "id": "ba5ec14f-9343-4242-9cc9-485bce375155",
   "metadata": {},
   "outputs": [],
   "source": [
    "# paso4: En la imagen de arriba, vemos que hay muchas vacantes negras en el área del cuerpo de la abeja. Necesitamos llenar estas vacantes con blanco para que sea más fácil para el siguiente programa identificar el área del insecto.\n",
    "# Esto requiere algunas operaciones morfológicas.\n",
    "kernel = cv2.getStructuringElement(cv2.MORPH_RECT, (25, 25))\n",
    "closed = cv2.morphologyEx(thresh, cv2.MORPH_CLOSE, kernel)"
   ]
  },
  {
   "cell_type": "code",
   "execution_count": 21,
   "id": "0999a15b-620d-431a-8780-147356212b56",
   "metadata": {},
   "outputs": [
    {
     "data": {
      "text/plain": [
       "-1"
      ]
     },
     "execution_count": 21,
     "metadata": {},
     "output_type": "execute_result"
    }
   ],
   "source": [
    "# show image\n",
    "cv2.imshow(\"closed1\", closed)\n",
    "cv2.waitKey()"
   ]
  },
  {
   "cell_type": "code",
   "execution_count": 34,
   "id": "fbb81753-a682-442f-8e66-55fad37be5d0",
   "metadata": {},
   "outputs": [],
   "source": [
    "# paso5: De la imagen de arriba, descubrimos que todavía hay algunas pequeñas manchas blancas en la imagen, que interferirán con la detección de contornos de insectos en el futuro, y que deben eliminarse. Realizar corrosión morfológica y expansión 4 veces respectivamente.\n",
    "# perform a series of erosions and dilations\n",
    "closed = cv2.erode(closed, None, iterations=4)\n",
    "closed = cv2.dilate(closed, None, iterations=4)"
   ]
  },
  {
   "cell_type": "code",
   "execution_count": 35,
   "id": "c5440dd3-8bdb-45fc-9ee6-854d4a1db1b3",
   "metadata": {},
   "outputs": [
    {
     "data": {
      "text/plain": [
       "-1"
      ]
     },
     "execution_count": 35,
     "metadata": {},
     "output_type": "execute_result"
    }
   ],
   "source": [
    "# show image\n",
    "cv2.imshow(\"closed2\", closed)\n",
    "cv2.waitKey()"
   ]
  },
  {
   "cell_type": "code",
   "execution_count": 36,
   "id": "550e313c-e9d4-4cda-bce2-519acb73f0a5",
   "metadata": {},
   "outputs": [],
   "source": [
    "(cnts, x) = cv2.findContours(closed.copy(), cv2.RETR_EXTERNAL, cv2.CHAIN_APPROX_SIMPLE)\n",
    "c = sorted(cnts, key=cv2.contourArea, reverse=True)[0]"
   ]
  },
  {
   "cell_type": "code",
   "execution_count": 37,
   "id": "46e00ded-19cb-41c2-903e-fe9aa97f5c6b",
   "metadata": {},
   "outputs": [],
   "source": [
    "# compute the rotated bounding box of the largest contour\n",
    "rect = cv2.minAreaRect(c)\n",
    "box = np.int0(cv2.boxPoints(rect))"
   ]
  },
  {
   "cell_type": "code",
   "execution_count": 18,
   "id": "15d56c3b-615f-4d22-9afa-a05532eb1684",
   "metadata": {},
   "outputs": [
    {
     "data": {
      "text/plain": [
       "-1"
      ]
     },
     "execution_count": 18,
     "metadata": {},
     "output_type": "execute_result"
    }
   ],
   "source": [
    "# draw a bounding box arounded the detected barcode and display the image\n",
    "cv2.drawContours(image, [box], -1, (0, 255, 0), 3)\n",
    "cv2.imshow(\"Image\", image)\n",
    "cv2.imwrite(\"contoursImage2.jpg\", image)\n",
    "cv2.waitKey(0)"
   ]
  },
  {
   "cell_type": "code",
   "execution_count": 38,
   "id": "de86f58c-5d67-4c6f-94a8-3847baa0caf8",
   "metadata": {},
   "outputs": [],
   "source": [
    "# step7: Recortar. En el cuadro se almacenan las coordenadas de los cuatro vértices del área rectangular verde. Recortaré la imagen del insecto como se muestra en el rectángulo rojo a continuación.\n",
    "# Encuentra los valores máximos y mínimos de las coordenadas x e y de los cuatro vértices. La altura de la nueva imagen = maxY-minY, y el ancho = maxX-minX.\n",
    "Xs = [i[0] for i in box]\n",
    "Ys = [i[1] for i in box]\n",
    "x1 = min(Xs)\n",
    "x2 = max(Xs)\n",
    "y1 = min(Ys)\n",
    "y2 = max(Ys)\n",
    "hight = y2 - y1\n",
    "width = x2 - x1\n",
    "cropImg = image[y1:y1+hight, x1:x1+width]"
   ]
  },
  {
   "cell_type": "code",
   "execution_count": 39,
   "id": "757501cc-913b-4df5-b51e-b783eae90cc6",
   "metadata": {},
   "outputs": [
    {
     "data": {
      "text/plain": [
       "-1"
      ]
     },
     "execution_count": 39,
     "metadata": {},
     "output_type": "execute_result"
    }
   ],
   "source": [
    "# show image\n",
    "cv2.imshow(\"cropImg\", cropImg)\n",
    "cv2.imwrite(\"bee.jpg\", cropImg)\n",
    "cv2.waitKey()"
   ]
  },
  {
   "cell_type": "code",
   "execution_count": null,
   "id": "d8d53fa1-f00b-41b7-b9bc-2a08745e3209",
   "metadata": {},
   "outputs": [],
   "source": []
  }
 ],
 "metadata": {
  "kernelspec": {
   "display_name": "Python 3",
   "language": "python",
   "name": "python3"
  },
  "language_info": {
   "codemirror_mode": {
    "name": "ipython",
    "version": 3
   },
   "file_extension": ".py",
   "mimetype": "text/x-python",
   "name": "python",
   "nbconvert_exporter": "python",
   "pygments_lexer": "ipython3",
   "version": "3.8.8"
  }
 },
 "nbformat": 4,
 "nbformat_minor": 5
}
