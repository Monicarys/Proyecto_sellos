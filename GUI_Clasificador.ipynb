{
 "cells": [
  {
   "cell_type": "code",
   "execution_count": 1,
   "id": "3272db3b-9ab9-41d4-9361-9418d970171f",
   "metadata": {},
   "outputs": [],
   "source": [
    "from tkinter import *\n",
    "from PIL import Image, ImageTk\n",
    "from tkinter import filedialog\n",
    "import cv2\n",
    "import os\n",
    "import numpy as np\n",
    "import matplotlib.pyplot as plt\n",
    "import random\n",
    "import pickle\n",
    "from sklearn.model_selection import train_test_split\n",
    "from sklearn.neighbors import KNeighborsClassifier\n",
    "from sklearn.decomposition import PCA"
   ]
  },
  {
   "cell_type": "code",
   "execution_count": 2,
   "id": "0027f256-5eb8-4ef1-a8b8-d54a1ff33fd3",
   "metadata": {},
   "outputs": [],
   "source": [
    "pickle_in = open('X.pickle','rb')\n",
    "X = pickle.load(pickle_in)\n",
    "pickle_in = open('y.pickle','rb')\n",
    "y = pickle.load(pickle_in)\n",
    "pickle_in = open('Z.pickle','rb')\n",
    "Z = pickle.load(pickle_in)"
   ]
  },
  {
   "cell_type": "code",
   "execution_count": 3,
   "id": "9d9adbc3-f0bb-41bc-ac6d-7bf863e8e66c",
   "metadata": {},
   "outputs": [
    {
     "name": "stdout",
     "output_type": "stream",
     "text": [
      "[array([236, 236, 235, ..., 216, 215, 213], dtype=uint8), array([191, 221, 239, ..., 221, 218, 232], dtype=uint8), array([253, 253, 252, ..., 250, 250, 250], dtype=uint8), array([204, 170, 195, ..., 247, 247, 245], dtype=uint8), array([255, 253, 255, ..., 240, 239, 238], dtype=uint8), array([172, 214, 219, ..., 217, 220, 220], dtype=uint8), array([231, 190, 251, ..., 232, 233, 231], dtype=uint8), array([238, 241, 238, ..., 235, 239, 244], dtype=uint8), array([199, 186, 204, ..., 244, 229, 193], dtype=uint8), array([252, 229, 223, ..., 237, 239, 240], dtype=uint8), array([213, 215, 220, ..., 178, 185, 203], dtype=uint8), array([160, 189, 188, ..., 251, 248, 204], dtype=uint8), array([237, 184, 231, ..., 204, 204, 166], dtype=uint8), array([255, 253, 254, ..., 253, 254, 254], dtype=uint8), array([251, 254, 252, ..., 236, 233, 244], dtype=uint8), array([ 98, 176, 238, ..., 251, 250, 209], dtype=uint8), array([247, 239, 218, ..., 221, 220, 224], dtype=uint8), array([205, 215, 249, ..., 254, 253, 216], dtype=uint8), array([198, 249, 255, ..., 254, 254, 255], dtype=uint8), array([248, 251, 242, ..., 255, 253, 251], dtype=uint8), array([255, 248, 238, ..., 253, 253, 253], dtype=uint8), array([253, 253, 253, ..., 252, 252, 252], dtype=uint8), array([251, 253, 251, ..., 247, 250, 252], dtype=uint8), array([177, 167, 164, ..., 253, 253, 254], dtype=uint8), array([237, 203, 187, ..., 247, 218, 240], dtype=uint8), array([235, 250, 252, ..., 245, 244, 183], dtype=uint8), array([250, 249, 249, ..., 215, 215, 219], dtype=uint8), array([250, 243, 220, ..., 254, 251, 247], dtype=uint8), array([254, 251, 255, ..., 227, 228, 229], dtype=uint8), array([193, 129, 138, ..., 254, 254, 254], dtype=uint8), array([159, 241, 249, ..., 226, 227, 228], dtype=uint8), array([246, 249, 248, ..., 251, 251, 252], dtype=uint8), array([220, 250, 251, ..., 254, 250, 245], dtype=uint8), array([238, 238, 234, ..., 253, 252, 253], dtype=uint8), array([251, 223, 238, ..., 243, 216, 220], dtype=uint8), array([253, 253, 251, ..., 252, 254, 254], dtype=uint8), array([223, 221, 219, ..., 247, 247, 247], dtype=uint8), array([243, 245, 245, ..., 249, 249, 249], dtype=uint8), array([252, 248, 197, ..., 254, 255, 248], dtype=uint8), array([227, 230, 234, ..., 253, 253, 253], dtype=uint8), array([234, 243, 243, ..., 241, 242, 251], dtype=uint8), array([203, 204, 205, ..., 253, 253, 254], dtype=uint8), array([226, 208, 188, ..., 254, 254, 253], dtype=uint8), array([217, 232, 223, ..., 254, 250, 253], dtype=uint8), array([187, 188, 152, ..., 255, 253, 253], dtype=uint8), array([189, 205, 208, ..., 254, 253, 237], dtype=uint8), array([208, 208, 206, ..., 253, 253, 253], dtype=uint8), array([253, 242, 185, ..., 252, 252, 224], dtype=uint8), array([249, 248, 246, ..., 236, 232, 233], dtype=uint8), array([243, 235, 226, ..., 253, 254, 239], dtype=uint8), array([239, 240, 247, ..., 239, 240, 240], dtype=uint8), array([244, 245, 244, ..., 249, 251, 254], dtype=uint8), array([253, 251, 247, ..., 250, 253, 254], dtype=uint8), array([248, 251, 248, ..., 253, 253, 253], dtype=uint8), array([193, 201, 208, ..., 252, 205, 228], dtype=uint8), array([210, 205, 214, ..., 210, 181, 161], dtype=uint8), array([210, 217, 213, ..., 254, 232, 226], dtype=uint8), array([208, 203, 231, ..., 216, 223, 189], dtype=uint8), array([253, 252, 252, ..., 251, 253, 255], dtype=uint8), array([214, 194, 166, ..., 197, 205, 224], dtype=uint8), array([254, 252, 254, ..., 226, 223, 219], dtype=uint8), array([224, 225, 224, ..., 253, 253, 254], dtype=uint8), array([242, 202, 254, ..., 227, 230, 222], dtype=uint8), array([225, 247, 253, ..., 255, 249, 200], dtype=uint8), array([252, 252, 249, ..., 253, 253, 253], dtype=uint8), array([255, 252, 253, ..., 242, 244, 246], dtype=uint8), array([199, 185, 179, ..., 188, 180, 182], dtype=uint8), array([246, 251, 254, ..., 229, 226, 222], dtype=uint8), array([240, 180, 251, ..., 255, 255, 255], dtype=uint8), array([238, 228, 253, ..., 252, 250, 248], dtype=uint8), array([177, 138, 140, ..., 216, 233, 232], dtype=uint8), array([207, 224, 242, ..., 223, 220, 246], dtype=uint8), array([242, 241, 237, ..., 253, 255, 253], dtype=uint8), array([203, 209, 249, ..., 207, 214, 203], dtype=uint8), array([217, 237, 249, ..., 220, 229, 245], dtype=uint8), array([222, 225, 224, ..., 243, 242, 242], dtype=uint8), array([183, 212, 248, ..., 225, 227, 225], dtype=uint8), array([252, 232, 181, ..., 255, 255, 255], dtype=uint8), array([250, 252, 250, ..., 250, 250, 249], dtype=uint8), array([253, 253, 253, ..., 251, 245, 251], dtype=uint8), array([188, 204, 218, ..., 254, 250, 248], dtype=uint8), array([218, 216, 220, ..., 254, 254, 254], dtype=uint8), array([201, 235, 254, ..., 254, 248, 255], dtype=uint8), array([191, 253, 254, ..., 238, 244, 222], dtype=uint8), array([231, 234, 236, ..., 238, 243, 243], dtype=uint8), array([248, 222, 217, ..., 246, 246, 246], dtype=uint8), array([252, 253, 231, ..., 211, 207, 199], dtype=uint8), array([242, 242, 242, ..., 253, 253, 253], dtype=uint8), array([196, 190, 190, ..., 253, 253, 253], dtype=uint8), array([241, 242, 239, ..., 227, 227, 227], dtype=uint8), array([253, 253, 253, ..., 249, 251, 252], dtype=uint8), array([177, 190, 181, ..., 253, 255, 255], dtype=uint8), array([250, 249, 248, ..., 254, 251, 255], dtype=uint8), array([231, 229, 222, ..., 245, 246, 247], dtype=uint8), array([242, 246, 250, ..., 239, 237, 233], dtype=uint8), array([246, 248, 251, ..., 239, 240, 244], dtype=uint8), array([230, 230, 222, ..., 244, 254, 253], dtype=uint8), array([216, 213, 209, ..., 216, 219, 223], dtype=uint8), array([227, 226, 228, ..., 250, 250, 250], dtype=uint8), array([187, 186, 186, ..., 229, 230, 228], dtype=uint8), array([253, 200, 235, ..., 215, 211, 211], dtype=uint8), array([252, 250, 254, ..., 250, 237, 223], dtype=uint8), array([250, 245, 204, ..., 253, 252, 253], dtype=uint8), array([253, 254, 249, ..., 249, 248, 251], dtype=uint8), array([254, 239, 234, ..., 252, 229, 207], dtype=uint8), array([193, 206, 255, ..., 253, 249, 236], dtype=uint8), array([207, 199, 246, ..., 254, 254, 249], dtype=uint8), array([241, 244, 241, ..., 238, 241, 241], dtype=uint8), array([142, 152, 161, ..., 203, 204, 204], dtype=uint8), array([255, 248, 216, ..., 247, 253, 215], dtype=uint8), array([254, 255, 250, ..., 253, 253, 251], dtype=uint8), array([252, 251, 238, ..., 252, 246, 247], dtype=uint8), array([250, 250, 250, ..., 239, 239, 239], dtype=uint8), array([245, 249, 252, ..., 246, 248, 162], dtype=uint8), array([246, 207, 219, ..., 201, 202, 204], dtype=uint8), array([170, 170, 167, ..., 213, 214, 205], dtype=uint8), array([244, 245, 248, ..., 183, 197, 192], dtype=uint8), array([234, 252, 254, ..., 253, 255, 253], dtype=uint8), array([222, 225, 225, ..., 253, 253, 253], dtype=uint8), array([219, 246, 240, ..., 249, 195, 216], dtype=uint8), array([212, 199, 195, ..., 249, 252, 254], dtype=uint8), array([208, 217, 223, ..., 225, 225, 224], dtype=uint8), array([213, 241, 254, ..., 253, 253, 244], dtype=uint8), array([255, 255, 255, ..., 222, 224, 226], dtype=uint8), array([233, 192, 254, ..., 249, 250, 251], dtype=uint8), array([254, 254, 255, ..., 231, 228, 225], dtype=uint8), array([249, 248, 231, ..., 248, 252, 249], dtype=uint8), array([219, 218, 213, ..., 246, 251, 233], dtype=uint8), array([248, 249, 245, ..., 238, 237, 236], dtype=uint8), array([222, 238, 239, ..., 254, 247, 236], dtype=uint8), array([252, 252, 252, ..., 249, 250, 250], dtype=uint8), array([247, 242, 237, ..., 214, 214, 208], dtype=uint8), array([195, 251, 253, ..., 228, 234, 199], dtype=uint8), array([241, 230, 239, ..., 252, 214, 239], dtype=uint8), array([239, 233, 231, ..., 254, 251, 251], dtype=uint8), array([206, 222, 228, ..., 209, 221, 218], dtype=uint8), array([251, 252, 253, ..., 248, 251, 250], dtype=uint8), array([255, 253, 246, ..., 249, 254, 251], dtype=uint8), array([247, 253, 244, ..., 252, 253, 253], dtype=uint8), array([202, 209, 210, ..., 244, 240, 246], dtype=uint8), array([182, 181, 200, ..., 210, 209, 208], dtype=uint8), array([250, 250, 251, ..., 235, 253, 253], dtype=uint8), array([227, 235, 243, ..., 250, 244, 178], dtype=uint8), array([255, 250, 249, ..., 253, 253, 252], dtype=uint8), array([250, 226, 172, ..., 254, 253, 254], dtype=uint8), array([254, 255, 254, ..., 231, 234, 235], dtype=uint8), array([253, 249, 193, ..., 252, 249, 230], dtype=uint8), array([210, 224, 205, ..., 252, 251, 255], dtype=uint8), array([184, 203, 222, ..., 243, 243, 244], dtype=uint8), array([194, 236, 242, ..., 213, 215, 215], dtype=uint8), array([162, 147, 249, ..., 253, 254, 254], dtype=uint8), array([252, 252, 252, ..., 254, 254, 253], dtype=uint8), array([251, 251, 251, ..., 255, 249, 253], dtype=uint8), array([249, 195, 250, ..., 243, 246, 205], dtype=uint8), array([249, 253, 252, ..., 253, 253, 253], dtype=uint8), array([251, 247, 238, ..., 215, 195, 212], dtype=uint8), array([194, 227, 220, ..., 249, 252, 228], dtype=uint8), array([249, 228, 184, ..., 188, 200, 158], dtype=uint8), array([253, 250, 205, ..., 252, 253, 254], dtype=uint8), array([233, 236, 236, ..., 216, 222, 242], dtype=uint8), array([234, 239, 241, ..., 254, 254, 254], dtype=uint8), array([164, 194, 203, ..., 208, 209, 211], dtype=uint8), array([254, 249, 252, ..., 253, 253, 253], dtype=uint8), array([249, 249, 251, ..., 249, 248, 249], dtype=uint8), array([254, 247, 227, ..., 247, 245, 247], dtype=uint8), array([247, 246, 224, ..., 254, 254, 248], dtype=uint8), array([246, 254, 243, ..., 251, 250, 249], dtype=uint8), array([254, 253, 255, ..., 222, 226, 228], dtype=uint8), array([252, 246, 245, ..., 253, 253, 253], dtype=uint8), array([255, 240, 225, ..., 197, 200, 204], dtype=uint8), array([131, 161, 227, ..., 255, 253, 251], dtype=uint8), array([252, 253, 252, ..., 253, 253, 251], dtype=uint8), array([230, 229, 227, ..., 250, 250, 249], dtype=uint8), array([  6,   9,  21, ..., 255, 255, 255], dtype=uint8), array([247, 234, 166, ..., 232, 230, 230], dtype=uint8), array([191, 192, 188, ..., 252, 253, 254], dtype=uint8), array([254, 253, 251, ..., 233, 221, 226], dtype=uint8), array([228, 233, 252, ..., 253, 253, 252], dtype=uint8), array([237, 237, 236, ..., 247, 250, 253], dtype=uint8), array([197, 208, 250, ..., 253, 253, 253], dtype=uint8), array([196, 211, 217, ..., 253, 253, 253], dtype=uint8), array([168, 239, 252, ..., 233, 233, 242], dtype=uint8), array([176, 142, 190, ..., 235, 231, 230], dtype=uint8), array([249, 191, 140, ..., 251, 251, 250], dtype=uint8), array([254, 255, 252, ..., 250, 253, 254], dtype=uint8), array([252, 223, 208, ..., 202, 196, 197], dtype=uint8), array([178, 248, 253, ..., 255, 255, 255], dtype=uint8), array([253, 253, 253, ..., 251, 250, 251], dtype=uint8), array([227, 164, 206, ..., 254, 255, 255], dtype=uint8), array([189, 222, 251, ..., 181, 189, 169], dtype=uint8), array([197, 210, 201, ..., 233, 209, 254], dtype=uint8), array([255, 255, 255, ..., 185, 186, 141], dtype=uint8), array([249, 250, 252, ..., 242, 215, 236], dtype=uint8), array([252, 249, 251, ..., 253, 253, 253], dtype=uint8), array([251, 251, 252, ..., 255, 255, 255], dtype=uint8), array([254, 254, 254, ..., 254, 250, 253], dtype=uint8), array([254, 253, 253, ..., 251, 250, 245], dtype=uint8), array([247, 237, 202, ..., 207, 208, 205], dtype=uint8), array([225, 227, 230, ..., 253, 253, 252], dtype=uint8), array([251, 253, 234, ..., 224, 227, 225], dtype=uint8), array([252, 252, 252, ..., 253, 250, 253], dtype=uint8), array([253, 253, 253, ..., 253, 253, 253], dtype=uint8), array([207, 217, 216, ..., 252, 245, 196], dtype=uint8), array([101, 114,  95, ..., 231, 223, 209], dtype=uint8), array([253, 252, 248, ..., 203, 202, 202], dtype=uint8), array([212, 214, 214, ..., 255, 255, 252], dtype=uint8), array([252, 255, 252, ..., 232, 231, 227], dtype=uint8), array([229, 229, 235, ..., 253, 253, 253], dtype=uint8), array([235, 240, 228, ..., 251, 250, 251], dtype=uint8), array([177, 236, 254, ..., 254, 254, 251], dtype=uint8), array([253, 253, 253, ..., 250, 250, 252], dtype=uint8), array([234, 197, 248, ..., 227, 230, 231], dtype=uint8), array([251, 252, 252, ..., 217, 219, 220], dtype=uint8), array([223, 208, 218, ..., 253, 253, 254], dtype=uint8), array([223, 251, 249, ..., 254, 242, 187], dtype=uint8), array([221, 221, 220, ..., 250, 250, 247], dtype=uint8), array([219, 223, 213, ..., 220, 213, 225], dtype=uint8), array([255, 251, 245, ..., 254, 254, 251], dtype=uint8), array([171, 177, 190, ..., 252, 251, 220], dtype=uint8), array([254, 252, 253, ..., 227, 229, 220], dtype=uint8), array([193, 233, 253, ..., 244, 243, 229], dtype=uint8), array([136, 141, 139, ..., 237, 220, 203], dtype=uint8), array([118, 136, 143, ..., 214, 248, 253], dtype=uint8), array([216, 209, 200, ..., 245, 245, 241], dtype=uint8), array([192, 195, 186, ..., 253, 253, 253], dtype=uint8), array([251, 246, 248, ..., 242, 245, 246], dtype=uint8), array([192, 247, 249, ..., 243, 244, 231], dtype=uint8), array([205, 202, 210, ..., 218, 218, 218], dtype=uint8), array([243, 244, 245, ..., 232, 236, 243], dtype=uint8), array([199, 238, 255, ..., 252, 253, 250], dtype=uint8), array([253, 251, 250, ..., 248, 247, 248], dtype=uint8), array([226, 223, 254, ..., 216, 223, 179], dtype=uint8), array([214, 202, 195, ..., 242, 240, 239], dtype=uint8), array([228, 222, 221, ..., 225, 222, 222], dtype=uint8), array([185, 206, 210, ..., 253, 253, 253], dtype=uint8), array([248, 247, 239, ..., 229, 229, 231], dtype=uint8), array([249, 252, 251, ..., 224, 224, 225], dtype=uint8), array([221, 248, 252, ..., 224, 222, 223], dtype=uint8), array([248, 238, 210, ..., 247, 243, 213], dtype=uint8), array([218, 189, 247, ..., 251, 254, 250], dtype=uint8), array([179, 253, 245, ..., 234, 234, 235], dtype=uint8), array([253, 253, 253, ..., 251, 248, 250], dtype=uint8)]\n"
     ]
    }
   ],
   "source": [
    "print(X)"
   ]
  },
  {
   "cell_type": "code",
   "execution_count": 4,
   "id": "f1495131-dfd8-45a0-b569-95c26ecc98d9",
   "metadata": {},
   "outputs": [],
   "source": [
    "# Divido entre datos de entrenamiento y de prueba\n",
    "X_train, X_test, y_train, y_test, Z_train, Z_test = train_test_split(X, y, Z, stratify=y, random_state=0)"
   ]
  },
  {
   "cell_type": "code",
   "execution_count": 5,
   "id": "d651854f-3983-4630-91f9-cc8c29dce589",
   "metadata": {},
   "outputs": [
    {
     "data": {
      "text/plain": [
       "KNeighborsClassifier(n_neighbors=1)"
      ]
     },
     "execution_count": 5,
     "metadata": {},
     "output_type": "execute_result"
    }
   ],
   "source": [
    "knn = KNeighborsClassifier(n_neighbors=1)\n",
    "knn.fit(X_train, y_train)"
   ]
  },
  {
   "cell_type": "code",
   "execution_count": 6,
   "id": "bce32ce1-56b5-42e4-aa2c-783c99af4858",
   "metadata": {},
   "outputs": [],
   "source": [
    "def clase(i):\n",
    "    n=''\n",
    "    if (i==0):\n",
    "        n='Dado'\n",
    "    if (i==1):\n",
    "        n='Dardo'\n",
    "    if (i==2):\n",
    "        n='Foco'\n",
    "    if (i==3):\n",
    "        n='Maceta'\n",
    "    if (i==4):\n",
    "        n='Oso'\n",
    "    if (i==5):\n",
    "        n='Pulpo'\n",
    "    if (i==6):\n",
    "        n='Rueda'\n",
    "    return n"
   ]
  },
  {
   "cell_type": "code",
   "execution_count": 7,
   "id": "05c0a585-bb3e-40ec-acaa-32c570434c3f",
   "metadata": {},
   "outputs": [],
   "source": [
    "class SelectorImagenes:\n",
    "    def __init__(self, master):\n",
    "        self.master = master\n",
    "        self.inicializar_gui()\n",
    "    \n",
    "    def inicializar_gui(self):\n",
    "        btn_seleccionar_imagen = Button(self.master, text='Seleccionar imagen...', command=self.seleccionar_imagen)\n",
    "        btn_seleccionar_imagen.grid(row=0, column=0,columnspan=2, pady=15, padx=200)\n",
    "\n",
    "    def seleccionar_imagen(self):\n",
    "        pass\n",
    "        archivo = filedialog.askopenfilename(filetypes=[('Archivos de imagen', '*.jpg')])\n",
    "\n",
    "        if archivo is not None:\n",
    "            imagen = Image.open(archivo)\n",
    "\n",
    "            imagen = imagen.resize((140, 140), Image.ANTIALIAS)\n",
    "\n",
    "            imagen = ImageTk.PhotoImage(imagen)\n",
    "            \n",
    "            lbl_imagen = Label(self.master, image=imagen)\n",
    "            lbl_imagen.image = imagen\n",
    "            lbl_imagen.grid(row=1, column=0,pady=15, padx=25,sticky=E)\n",
    "            \n",
    "    \n",
    "        if archivo is not None:\n",
    "            img = cv2.imread(archivo, cv2.IMREAD_GRAYSCALE)\n",
    "            img_N = cv2.resize(img,(140,140))\n",
    "            img_V = (np.asarray(img_N)).flatten()\n",
    "            prediccion = knn.predict([img_V])\n",
    "            for i in range(7):\n",
    "                if (prediccion==i):\n",
    "                    p=clase(i)\n",
    "            lbl_tipo=Label(self.master,text='La imágen es del tipo:')\n",
    "            lbl_tipo.grid(row=2,column=0,sticky=E)\n",
    "\n",
    "            lbl_img= Label(self.master,text=p,width=10)\n",
    "            lbl_img.config(bg='white')\n",
    "            lbl_img.grid(row=2,column=1,pady=15, padx=10,sticky=W)\n",
    "\n"
   ]
  },
  {
   "cell_type": "code",
   "execution_count": null,
   "id": "cd484588-c145-4c2b-9788-d369bec6d074",
   "metadata": {},
   "outputs": [],
   "source": [
    "def main():\n",
    "    master = Tk()\n",
    "    master.title('Clasificador de imagenes')\n",
    "    master.geometry('500x500')\n",
    "    master.resizable(width=True, height=True)\n",
    "    #master.config(bg='white')\n",
    "    ventana = SelectorImagenes(master)\n",
    "    master.mainloop()\n",
    "if __name__ == \"__main__\":\n",
    "    main()"
   ]
  },
  {
   "cell_type": "code",
   "execution_count": null,
   "id": "9928a42f-17ac-4871-b7a2-eb1985c31a19",
   "metadata": {},
   "outputs": [],
   "source": []
  },
  {
   "cell_type": "code",
   "execution_count": null,
   "id": "c4478886-48f0-4599-9411-be3dbb30cdd2",
   "metadata": {},
   "outputs": [],
   "source": []
  },
  {
   "cell_type": "code",
   "execution_count": null,
   "id": "b60da1e1-65ba-455d-b599-1f334eba1b69",
   "metadata": {},
   "outputs": [],
   "source": []
  },
  {
   "cell_type": "code",
   "execution_count": null,
   "id": "76e471a9-b59d-4cfc-a7ca-0bd7204d347d",
   "metadata": {},
   "outputs": [],
   "source": []
  }
 ],
 "metadata": {
  "kernelspec": {
   "display_name": "Python 3 (ipykernel)",
   "language": "python",
   "name": "python3"
  },
  "language_info": {
   "codemirror_mode": {
    "name": "ipython",
    "version": 3
   },
   "file_extension": ".py",
   "mimetype": "text/x-python",
   "name": "python",
   "nbconvert_exporter": "python",
   "pygments_lexer": "ipython3",
   "version": "3.9.7"
  }
 },
 "nbformat": 4,
 "nbformat_minor": 5
}
