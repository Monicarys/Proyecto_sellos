{
 "cells": [
  {
   "cell_type": "code",
   "execution_count": 1,
   "id": "3272db3b-9ab9-41d4-9361-9418d970171f",
   "metadata": {},
   "outputs": [],
   "source": [
    "from tkinter import *\n",
    "from PIL import Image, ImageTk\n",
    "from tkinter import filedialog\n",
    "import cv2\n",
    "import os\n",
    "import numpy as np\n",
    "import matplotlib.pyplot as plt\n",
    "import random\n",
    "import pickle\n",
    "from sklearn.model_selection import train_test_split\n",
    "from sklearn.neighbors import KNeighborsClassifier\n",
    "from sklearn.decomposition import PCA"
   ]
  },
  {
   "cell_type": "code",
   "execution_count": 2,
   "id": "0027f256-5eb8-4ef1-a8b8-d54a1ff33fd3",
   "metadata": {},
   "outputs": [],
   "source": [
    "pickle_in = open('X.pickle','rb')\n",
    "X = pickle.load(pickle_in)\n",
    "pickle_in = open('y.pickle','rb')\n",
    "y = pickle.load(pickle_in)\n",
    "pickle_in = open('Z.pickle','rb')\n",
    "Z = pickle.load(pickle_in)"
   ]
  },
  {
   "cell_type": "code",
   "execution_count": 3,
   "id": "f1495131-dfd8-45a0-b569-95c26ecc98d9",
   "metadata": {},
   "outputs": [],
   "source": [
    "# Divido entre datos de entrenamiento y de prueba\n",
    "X_train, X_test, y_train, y_test, Z_train, Z_test = train_test_split(X, y, Z, stratify=y, random_state=0)"
   ]
  },
  {
   "cell_type": "code",
   "execution_count": 4,
   "id": "d651854f-3983-4630-91f9-cc8c29dce589",
   "metadata": {},
   "outputs": [
    {
     "data": {
      "text/plain": [
       "KNeighborsClassifier(n_neighbors=1)"
      ]
     },
     "execution_count": 4,
     "metadata": {},
     "output_type": "execute_result"
    }
   ],
   "source": [
    "knn = KNeighborsClassifier(n_neighbors=1)\n",
    "knn.fit(X_train, y_train)"
   ]
  },
  {
   "cell_type": "code",
   "execution_count": 5,
   "id": "bce32ce1-56b5-42e4-aa2c-783c99af4858",
   "metadata": {},
   "outputs": [],
   "source": [
    "def clase(i):\n",
    "    n=''\n",
    "    if (i==0):\n",
    "        n='Dado'\n",
    "    if (i==1):\n",
    "        n='Dardo'\n",
    "    if (i==2):\n",
    "        n='Foco'\n",
    "    if (i==3):\n",
    "        n='Maceta'\n",
    "    if (i==4):\n",
    "        n='Oso'\n",
    "    if (i==5):\n",
    "        n='Pulpo'\n",
    "    if (i==6):\n",
    "        n='Rueda'\n",
    "    return n"
   ]
  },
  {
   "cell_type": "code",
   "execution_count": 116,
   "id": "05c0a585-bb3e-40ec-acaa-32c570434c3f",
   "metadata": {},
   "outputs": [],
   "source": [
    "class SelectorImagenes:\n",
    "    def __init__(self, master):\n",
    "        self.master = master\n",
    "        self.inicializar_gui()\n",
    "    \n",
    "    def inicializar_gui(self):\n",
    "        btn_seleccionar_imagen = Button(self.master, text='Seleccionar imagen...', command=self.seleccionar_imagen)\n",
    "        btn_seleccionar_imagen.grid(row=0, column=0,columnspan=2, pady=15, padx=200)\n",
    "\n",
    "    def seleccionar_imagen(self):\n",
    "        pass\n",
    "        archivo = filedialog.askopenfilename(filetypes=[('Archivos de imagen', '*.jpg')])\n",
    "\n",
    "        if archivo is not None:\n",
    "            imagen = Image.open(archivo)\n",
    "\n",
    "            imagen = imagen.resize((140, 140), Image.ANTIALIAS)\n",
    "\n",
    "            imagen = ImageTk.PhotoImage(imagen)\n",
    "            \n",
    "            lbl_imagen = Label(self.master, image=imagen)\n",
    "            lbl_imagen.image = imagen\n",
    "            lbl_imagen.grid(row=1, column=0,pady=15, padx=25,sticky=E)\n",
    "            \n",
    "    \n",
    "        if archivo is not None:\n",
    "            img = cv2.imread(archivo, cv2.IMREAD_GRAYSCALE)\n",
    "            img_N = cv2.resize(img,(140,140))\n",
    "            img_V = (np.asarray(img_N)).flatten()\n",
    "            prediccion = knn.predict([img_V])\n",
    "            for i in range(7):\n",
    "                if (prediccion==i):\n",
    "                    p=clase(i)\n",
    "            lbl_tipo=Label(self.master,text='La imágen es del tipo:')\n",
    "            lbl_tipo.grid(row=2,column=0,sticky=E)\n",
    "\n",
    "            lbl_img= Label(self.master,text=p,width=10)\n",
    "            lbl_img.config(bg='white')\n",
    "            lbl_img.grid(row=2,column=1,pady=15, padx=10,sticky=W)\n",
    "\n"
   ]
  },
  {
   "cell_type": "code",
   "execution_count": 117,
   "id": "cd484588-c145-4c2b-9788-d369bec6d074",
   "metadata": {},
   "outputs": [],
   "source": [
    "def main():\n",
    "    master = Tk()\n",
    "    master.title('Clasificador de imagenes')\n",
    "    master.geometry('500x500')\n",
    "    master.resizable(width=True, height=True)\n",
    "    #master.config(bg='white')\n",
    "    ventana = SelectorImagenes(master)\n",
    "    master.mainloop()\n",
    "if __name__ == \"__main__\":\n",
    "    main()"
   ]
  },
  {
   "cell_type": "code",
   "execution_count": null,
   "id": "9928a42f-17ac-4871-b7a2-eb1985c31a19",
   "metadata": {},
   "outputs": [],
   "source": []
  },
  {
   "cell_type": "code",
   "execution_count": null,
   "id": "c4478886-48f0-4599-9411-be3dbb30cdd2",
   "metadata": {},
   "outputs": [],
   "source": []
  },
  {
   "cell_type": "code",
   "execution_count": null,
   "id": "b60da1e1-65ba-455d-b599-1f334eba1b69",
   "metadata": {},
   "outputs": [],
   "source": []
  },
  {
   "cell_type": "code",
   "execution_count": null,
   "id": "76e471a9-b59d-4cfc-a7ca-0bd7204d347d",
   "metadata": {},
   "outputs": [],
   "source": []
  }
 ],
 "metadata": {
  "kernelspec": {
   "display_name": "Python 3",
   "language": "python",
   "name": "python3"
  },
  "language_info": {
   "codemirror_mode": {
    "name": "ipython",
    "version": 3
   },
   "file_extension": ".py",
   "mimetype": "text/x-python",
   "name": "python",
   "nbconvert_exporter": "python",
   "pygments_lexer": "ipython3",
   "version": "3.8.8"
  }
 },
 "nbformat": 4,
 "nbformat_minor": 5
}
